{
 "cells": [
  {
   "cell_type": "code",
   "execution_count": 43,
   "metadata": {},
   "outputs": [],
   "source": [
    "import pandas as pd\n",
    "import numpy as np\n",
    "import math\n",
    "from sklearn.pipeline import Pipeline\n",
    "from sklearn.compose import ColumnTransformer\n",
    "from sklearn. preprocessing import StandardScaler, OneHotEncoder\n",
    "from sklearn.impute import SimpleImputer\n",
    "from sklearn.metrics import mean_squared_error \n",
    "from sklearn.model_selection import train_test_split \n",
    "from sklearn.ensemble import RandomForestRegressor\n",
    "from sklearn.model_selection import RandomizedSearchCV"
   ]
  },
  {
   "cell_type": "code",
   "execution_count": 44,
   "metadata": {},
   "outputs": [],
   "source": [
    "diamonds = pd.read_csv('diamonds_train.csv')\n",
    "predict = pd.read_csv('diamonds_predict.csv')"
   ]
  },
  {
   "cell_type": "code",
   "execution_count": 45,
   "metadata": {},
   "outputs": [],
   "source": [
    "diamonds = diamonds[(diamonds['x'] > 0) & (diamonds['y'] > 0) & (diamonds['z'] > 0)]"
   ]
  },
  {
   "cell_type": "code",
   "execution_count": 46,
   "metadata": {},
   "outputs": [
    {
     "name": "stderr",
     "output_type": "stream",
     "text": [
      "/home/ana/miniconda3/envs/ironhack_env/lib/python3.7/site-packages/pandas/core/series.py:679: RuntimeWarning: divide by zero encountered in log\n",
      "  result = getattr(ufunc, method)(*inputs, **kwargs)\n"
     ]
    }
   ],
   "source": [
    "diamonds['x'] = np.log(diamonds['x'])\n",
    "diamonds['y'] = np.log(diamonds['y'])\n",
    "diamonds['z'] = np.log(diamonds['z'])\n",
    "\n",
    "predict['x'] = np.log(predict['x'])\n",
    "predict['y'] = np.log(predict['y'])\n",
    "predict['z'] = np.log(predict['z'])"
   ]
  },
  {
   "cell_type": "code",
   "execution_count": 47,
   "metadata": {},
   "outputs": [],
   "source": [
    "# Transformation which relates x, y and z with diamond volume: CONE\n",
    "\n",
    "diameter = (diamonds['x'] + diamonds['y']) / 2\n",
    "diamonds['volume cone'] = (1/3) * np.pi * ((diameter / 2) ** 2) * diamonds['z']\n",
    "diamonds['volume semisphere'] = (4/6) * np.pi * ((diameter / 2)) **2\n",
    "diamonds['volume'] = diamonds['volume cone'] + diamonds['volume semisphere']"
   ]
  },
  {
   "cell_type": "code",
   "execution_count": 48,
   "metadata": {},
   "outputs": [],
   "source": [
    "diameter_predict = (predict['x'] + predict['y']) / 2\n",
    "predict['volume cone'] = (1/3) * np.pi * ((diameter_predict / 2) ** 2) * predict['z']\n",
    "predict['volume semisphere'] = (4/6) * np.pi * ((diameter_predict / 2)) **2\n",
    "predict['volume'] = predict['volume cone'] + predict['volume semisphere']"
   ]
  },
  {
   "cell_type": "code",
   "execution_count": 92,
   "metadata": {},
   "outputs": [],
   "source": [
    "# Transformation which calculate the price due to price per carat * carat weight\n",
    "\n",
    "diamonds_price = []\n",
    "\n",
    "for i in diamonds['carat']:\n",
    "    \n",
    "    if i < 0.5:\n",
    "        diamonds_price.append(600)        \n",
    "    elif i >= 0.5 and  i < 1:\n",
    "        diamonds_price.append(2400)\n",
    "    elif i >= 1 and i < 1.5:\n",
    "        diamonds_price.append(4280)\n",
    "    elif i>= 1.5 and i < 2:\n",
    "        diamonds_price.append(9360)\n",
    "    else: \n",
    "        diamonds_price.append(16000)"
   ]
  },
  {
   "cell_type": "code",
   "execution_count": 93,
   "metadata": {},
   "outputs": [],
   "source": [
    "diamonds['carat price'] = diamonds_price"
   ]
  },
  {
   "cell_type": "code",
   "execution_count": 94,
   "metadata": {},
   "outputs": [],
   "source": [
    "predict_price = []\n",
    "\n",
    "for i in predict['carat']:\n",
    "    \n",
    "    if i < 0.5:\n",
    "        predict_price.append(600)        \n",
    "    elif i >= 0.5 and  i < 1:\n",
    "        predict_price.append(2400)\n",
    "    elif i >= 1 and i < 1.5:\n",
    "        predict_price.append(4280)\n",
    "    elif i>= 1.5 and i < 2:\n",
    "        predict_price.append(9360)\n",
    "    else: \n",
    "        predict_price.append(16000)"
   ]
  },
  {
   "cell_type": "code",
   "execution_count": 95,
   "metadata": {},
   "outputs": [],
   "source": [
    "predict['carat price'] = predict_price"
   ]
  },
  {
   "cell_type": "code",
   "execution_count": 96,
   "metadata": {},
   "outputs": [],
   "source": [
    "diamonds['predicted price'] = diamonds['carat'] * diamonds['carat price']"
   ]
  },
  {
   "cell_type": "code",
   "execution_count": 97,
   "metadata": {},
   "outputs": [],
   "source": [
    "predict['predicted price'] = predict['carat'] * predict['carat price']"
   ]
  },
  {
   "cell_type": "code",
   "execution_count": 98,
   "metadata": {},
   "outputs": [
    {
     "data": {
      "text/html": [
       "<div>\n",
       "<style scoped>\n",
       "    .dataframe tbody tr th:only-of-type {\n",
       "        vertical-align: middle;\n",
       "    }\n",
       "\n",
       "    .dataframe tbody tr th {\n",
       "        vertical-align: top;\n",
       "    }\n",
       "\n",
       "    .dataframe thead th {\n",
       "        text-align: right;\n",
       "    }\n",
       "</style>\n",
       "<table border=\"1\" class=\"dataframe\">\n",
       "  <thead>\n",
       "    <tr style=\"text-align: right;\">\n",
       "      <th></th>\n",
       "      <th>carat</th>\n",
       "      <th>cut</th>\n",
       "      <th>color</th>\n",
       "      <th>clarity</th>\n",
       "      <th>depth</th>\n",
       "      <th>table</th>\n",
       "      <th>price</th>\n",
       "      <th>x</th>\n",
       "      <th>y</th>\n",
       "      <th>z</th>\n",
       "      <th>volume cone</th>\n",
       "      <th>volume semisphere</th>\n",
       "      <th>volume</th>\n",
       "      <th>carat price</th>\n",
       "      <th>predicted price</th>\n",
       "    </tr>\n",
       "  </thead>\n",
       "  <tbody>\n",
       "    <tr>\n",
       "      <th>0</th>\n",
       "      <td>1.21</td>\n",
       "      <td>Premium</td>\n",
       "      <td>J</td>\n",
       "      <td>VS2</td>\n",
       "      <td>62.4</td>\n",
       "      <td>58.0</td>\n",
       "      <td>4268</td>\n",
       "      <td>1.921325</td>\n",
       "      <td>1.915451</td>\n",
       "      <td>1.446919</td>\n",
       "      <td>1.394073</td>\n",
       "      <td>1.926954</td>\n",
       "      <td>3.321028</td>\n",
       "      <td>4280</td>\n",
       "      <td>5178.8</td>\n",
       "    </tr>\n",
       "    <tr>\n",
       "      <th>1</th>\n",
       "      <td>0.32</td>\n",
       "      <td>Very Good</td>\n",
       "      <td>H</td>\n",
       "      <td>VS2</td>\n",
       "      <td>63.0</td>\n",
       "      <td>57.0</td>\n",
       "      <td>505</td>\n",
       "      <td>1.470176</td>\n",
       "      <td>1.477049</td>\n",
       "      <td>1.011601</td>\n",
       "      <td>0.575101</td>\n",
       "      <td>1.137012</td>\n",
       "      <td>1.712113</td>\n",
       "      <td>600</td>\n",
       "      <td>192.0</td>\n",
       "    </tr>\n",
       "    <tr>\n",
       "      <th>2</th>\n",
       "      <td>0.71</td>\n",
       "      <td>Fair</td>\n",
       "      <td>G</td>\n",
       "      <td>VS1</td>\n",
       "      <td>65.5</td>\n",
       "      <td>55.0</td>\n",
       "      <td>2686</td>\n",
       "      <td>1.726332</td>\n",
       "      <td>1.710188</td>\n",
       "      <td>1.294727</td>\n",
       "      <td>1.000748</td>\n",
       "      <td>1.545882</td>\n",
       "      <td>2.546629</td>\n",
       "      <td>2400</td>\n",
       "      <td>1704.0</td>\n",
       "    </tr>\n",
       "    <tr>\n",
       "      <th>3</th>\n",
       "      <td>0.41</td>\n",
       "      <td>Good</td>\n",
       "      <td>D</td>\n",
       "      <td>SI1</td>\n",
       "      <td>63.8</td>\n",
       "      <td>56.0</td>\n",
       "      <td>738</td>\n",
       "      <td>1.543298</td>\n",
       "      <td>1.551809</td>\n",
       "      <td>1.098612</td>\n",
       "      <td>0.688818</td>\n",
       "      <td>1.253978</td>\n",
       "      <td>1.942796</td>\n",
       "      <td>600</td>\n",
       "      <td>246.0</td>\n",
       "    </tr>\n",
       "    <tr>\n",
       "      <th>4</th>\n",
       "      <td>1.02</td>\n",
       "      <td>Ideal</td>\n",
       "      <td>G</td>\n",
       "      <td>SI1</td>\n",
       "      <td>60.5</td>\n",
       "      <td>59.0</td>\n",
       "      <td>4882</td>\n",
       "      <td>1.879465</td>\n",
       "      <td>1.873339</td>\n",
       "      <td>1.373716</td>\n",
       "      <td>1.266244</td>\n",
       "      <td>1.843531</td>\n",
       "      <td>3.109775</td>\n",
       "      <td>4280</td>\n",
       "      <td>4365.6</td>\n",
       "    </tr>\n",
       "  </tbody>\n",
       "</table>\n",
       "</div>"
      ],
      "text/plain": [
       "   carat        cut color clarity  depth  table  price         x         y  \\\n",
       "0   1.21    Premium     J     VS2   62.4   58.0   4268  1.921325  1.915451   \n",
       "1   0.32  Very Good     H     VS2   63.0   57.0    505  1.470176  1.477049   \n",
       "2   0.71       Fair     G     VS1   65.5   55.0   2686  1.726332  1.710188   \n",
       "3   0.41       Good     D     SI1   63.8   56.0    738  1.543298  1.551809   \n",
       "4   1.02      Ideal     G     SI1   60.5   59.0   4882  1.879465  1.873339   \n",
       "\n",
       "          z  volume cone  volume semisphere    volume  carat price  \\\n",
       "0  1.446919     1.394073           1.926954  3.321028         4280   \n",
       "1  1.011601     0.575101           1.137012  1.712113          600   \n",
       "2  1.294727     1.000748           1.545882  2.546629         2400   \n",
       "3  1.098612     0.688818           1.253978  1.942796          600   \n",
       "4  1.373716     1.266244           1.843531  3.109775         4280   \n",
       "\n",
       "   predicted price  \n",
       "0           5178.8  \n",
       "1            192.0  \n",
       "2           1704.0  \n",
       "3            246.0  \n",
       "4           4365.6  "
      ]
     },
     "execution_count": 98,
     "metadata": {},
     "output_type": "execute_result"
    }
   ],
   "source": [
    "diamonds.head()"
   ]
  },
  {
   "cell_type": "code",
   "execution_count": 99,
   "metadata": {},
   "outputs": [
    {
     "data": {
      "text/html": [
       "<div>\n",
       "<style scoped>\n",
       "    .dataframe tbody tr th:only-of-type {\n",
       "        vertical-align: middle;\n",
       "    }\n",
       "\n",
       "    .dataframe tbody tr th {\n",
       "        vertical-align: top;\n",
       "    }\n",
       "\n",
       "    .dataframe thead th {\n",
       "        text-align: right;\n",
       "    }\n",
       "</style>\n",
       "<table border=\"1\" class=\"dataframe\">\n",
       "  <thead>\n",
       "    <tr style=\"text-align: right;\">\n",
       "      <th></th>\n",
       "      <th>carat</th>\n",
       "      <th>depth</th>\n",
       "      <th>table</th>\n",
       "      <th>price</th>\n",
       "      <th>x</th>\n",
       "      <th>y</th>\n",
       "      <th>z</th>\n",
       "      <th>volume cone</th>\n",
       "      <th>volume semisphere</th>\n",
       "      <th>volume</th>\n",
       "      <th>carat price</th>\n",
       "      <th>predicted price</th>\n",
       "    </tr>\n",
       "  </thead>\n",
       "  <tbody>\n",
       "    <tr>\n",
       "      <th>count</th>\n",
       "      <td>40439.000000</td>\n",
       "      <td>40439.000000</td>\n",
       "      <td>40439.000000</td>\n",
       "      <td>40439.000000</td>\n",
       "      <td>40439.000000</td>\n",
       "      <td>40439.000000</td>\n",
       "      <td>40439.000000</td>\n",
       "      <td>40439.000000</td>\n",
       "      <td>40439.000000</td>\n",
       "      <td>40439.000000</td>\n",
       "      <td>40439.000000</td>\n",
       "      <td>40439.000000</td>\n",
       "    </tr>\n",
       "    <tr>\n",
       "      <th>mean</th>\n",
       "      <td>0.797425</td>\n",
       "      <td>61.753013</td>\n",
       "      <td>57.445543</td>\n",
       "      <td>3926.535448</td>\n",
       "      <td>1.726726</td>\n",
       "      <td>1.727411</td>\n",
       "      <td>1.244759</td>\n",
       "      <td>1.018150</td>\n",
       "      <td>1.581374</td>\n",
       "      <td>2.599524</td>\n",
       "      <td>3329.492816</td>\n",
       "      <td>4208.743342</td>\n",
       "    </tr>\n",
       "    <tr>\n",
       "      <th>std</th>\n",
       "      <td>0.475257</td>\n",
       "      <td>1.431306</td>\n",
       "      <td>2.233055</td>\n",
       "      <td>3990.024501</td>\n",
       "      <td>0.194158</td>\n",
       "      <td>0.193063</td>\n",
       "      <td>0.194397</td>\n",
       "      <td>0.380567</td>\n",
       "      <td>0.352796</td>\n",
       "      <td>0.732688</td>\n",
       "      <td>3492.792584</td>\n",
       "      <td>7269.656120</td>\n",
       "    </tr>\n",
       "    <tr>\n",
       "      <th>min</th>\n",
       "      <td>0.200000</td>\n",
       "      <td>43.000000</td>\n",
       "      <td>43.000000</td>\n",
       "      <td>326.000000</td>\n",
       "      <td>1.327075</td>\n",
       "      <td>1.313724</td>\n",
       "      <td>0.067659</td>\n",
       "      <td>0.063531</td>\n",
       "      <td>0.912871</td>\n",
       "      <td>1.295020</td>\n",
       "      <td>600.000000</td>\n",
       "      <td>120.000000</td>\n",
       "    </tr>\n",
       "    <tr>\n",
       "      <th>25%</th>\n",
       "      <td>0.400000</td>\n",
       "      <td>61.000000</td>\n",
       "      <td>56.000000</td>\n",
       "      <td>945.000000</td>\n",
       "      <td>1.549688</td>\n",
       "      <td>1.551809</td>\n",
       "      <td>1.068153</td>\n",
       "      <td>0.674547</td>\n",
       "      <td>1.259154</td>\n",
       "      <td>1.934380</td>\n",
       "      <td>600.000000</td>\n",
       "      <td>240.000000</td>\n",
       "    </tr>\n",
       "    <tr>\n",
       "      <th>50%</th>\n",
       "      <td>0.700000</td>\n",
       "      <td>61.800000</td>\n",
       "      <td>57.000000</td>\n",
       "      <td>2396.000000</td>\n",
       "      <td>1.738710</td>\n",
       "      <td>1.742219</td>\n",
       "      <td>1.258461</td>\n",
       "      <td>1.000263</td>\n",
       "      <td>1.586086</td>\n",
       "      <td>2.587385</td>\n",
       "      <td>2400.000000</td>\n",
       "      <td>1680.000000</td>\n",
       "    </tr>\n",
       "    <tr>\n",
       "      <th>75%</th>\n",
       "      <td>1.040000</td>\n",
       "      <td>62.500000</td>\n",
       "      <td>59.000000</td>\n",
       "      <td>5329.500000</td>\n",
       "      <td>1.877937</td>\n",
       "      <td>1.877937</td>\n",
       "      <td>1.396245</td>\n",
       "      <td>1.279291</td>\n",
       "      <td>1.845044</td>\n",
       "      <td>3.123548</td>\n",
       "      <td>4280.000000</td>\n",
       "      <td>4451.200000</td>\n",
       "    </tr>\n",
       "    <tr>\n",
       "      <th>max</th>\n",
       "      <td>4.500000</td>\n",
       "      <td>79.000000</td>\n",
       "      <td>95.000000</td>\n",
       "      <td>18823.000000</td>\n",
       "      <td>2.325325</td>\n",
       "      <td>4.075841</td>\n",
       "      <td>2.086914</td>\n",
       "      <td>5.193813</td>\n",
       "      <td>4.977507</td>\n",
       "      <td>10.171320</td>\n",
       "      <td>16000.000000</td>\n",
       "      <td>72000.000000</td>\n",
       "    </tr>\n",
       "  </tbody>\n",
       "</table>\n",
       "</div>"
      ],
      "text/plain": [
       "              carat         depth         table         price             x  \\\n",
       "count  40439.000000  40439.000000  40439.000000  40439.000000  40439.000000   \n",
       "mean       0.797425     61.753013     57.445543   3926.535448      1.726726   \n",
       "std        0.475257      1.431306      2.233055   3990.024501      0.194158   \n",
       "min        0.200000     43.000000     43.000000    326.000000      1.327075   \n",
       "25%        0.400000     61.000000     56.000000    945.000000      1.549688   \n",
       "50%        0.700000     61.800000     57.000000   2396.000000      1.738710   \n",
       "75%        1.040000     62.500000     59.000000   5329.500000      1.877937   \n",
       "max        4.500000     79.000000     95.000000  18823.000000      2.325325   \n",
       "\n",
       "                  y             z   volume cone  volume semisphere  \\\n",
       "count  40439.000000  40439.000000  40439.000000       40439.000000   \n",
       "mean       1.727411      1.244759      1.018150           1.581374   \n",
       "std        0.193063      0.194397      0.380567           0.352796   \n",
       "min        1.313724      0.067659      0.063531           0.912871   \n",
       "25%        1.551809      1.068153      0.674547           1.259154   \n",
       "50%        1.742219      1.258461      1.000263           1.586086   \n",
       "75%        1.877937      1.396245      1.279291           1.845044   \n",
       "max        4.075841      2.086914      5.193813           4.977507   \n",
       "\n",
       "             volume   carat price  predicted price  \n",
       "count  40439.000000  40439.000000     40439.000000  \n",
       "mean       2.599524   3329.492816      4208.743342  \n",
       "std        0.732688   3492.792584      7269.656120  \n",
       "min        1.295020    600.000000       120.000000  \n",
       "25%        1.934380    600.000000       240.000000  \n",
       "50%        2.587385   2400.000000      1680.000000  \n",
       "75%        3.123548   4280.000000      4451.200000  \n",
       "max       10.171320  16000.000000     72000.000000  "
      ]
     },
     "execution_count": 99,
     "metadata": {},
     "output_type": "execute_result"
    }
   ],
   "source": [
    "diamonds.describe()"
   ]
  },
  {
   "cell_type": "code",
   "execution_count": 100,
   "metadata": {},
   "outputs": [],
   "source": [
    "# The first step is defining the Data Cleaning and Feature Engineering \n",
    "\n",
    "target = 'price'\n",
    "cat_features = ['cut', 'color', 'clarity']\n",
    "num_features = ['carat', 'depth', 'table', 'x', 'y', 'z', 'volume cone', 'volume semisphere', 'volume','predicted price']\n",
    "features = cat_features + num_features"
   ]
  },
  {
   "cell_type": "markdown",
   "metadata": {},
   "source": [
    "## **Random Forest**"
   ]
  },
  {
   "cell_type": "code",
   "execution_count": 101,
   "metadata": {},
   "outputs": [],
   "source": [
    "# Generamos una primera etapa del pipeline que transforma los datos categoricos y los datos numéricos del modelo\n",
    "\n",
    "# En los datos numéricos fill los nulos con la mediana y estandarizamos los resultados\n",
    "numeric_transformer = \\\n",
    "Pipeline(steps = [('imputer', SimpleImputer(strategy = 'median')), ('scalar', StandardScaler())])\n",
    "\n",
    "# En los datos categóricos fill los nulos con una constante y los transformamos con OneHotEncoding\n",
    "categorical_transformer = \\\n",
    "Pipeline(steps = [('imputer', SimpleImputer(strategy = 'constant', fill_value = 'missin')), \n",
    "                  ('onehot', OneHotEncoder(handle_unknown = 'ignore'))])"
   ]
  },
  {
   "cell_type": "code",
   "execution_count": 102,
   "metadata": {},
   "outputs": [],
   "source": [
    "# Generamos una segunda etapa donde definimos las variables numericas a las que aplicar numeric_transformer y las variables categoricas a las que aplicar categorical_transformer\n",
    "\n",
    "preprocessor = \\\n",
    "ColumnTransformer(transformers = [('num', numeric_transformer, num_features), ('cat', categorical_transformer, cat_features)])"
   ]
  },
  {
   "cell_type": "code",
   "execution_count": 103,
   "metadata": {},
   "outputs": [],
   "source": [
    "# Generamos una última etapa donde definimos el modelo\n",
    "\n",
    "model = \\\n",
    "Pipeline(steps = [('preprocessor', preprocessor), ('regressor', RandomForestRegressor(n_estimators = 150, max_depth = 10, random_state = 5))])"
   ]
  },
  {
   "cell_type": "code",
   "execution_count": 104,
   "metadata": {},
   "outputs": [],
   "source": [
    "# Dividimos el dataset en train y en test\n",
    "\n",
    "diamonds_train, diamonds_test = train_test_split(diamonds)"
   ]
  },
  {
   "cell_type": "code",
   "execution_count": 105,
   "metadata": {},
   "outputs": [
    {
     "data": {
      "text/plain": [
       "Pipeline(steps=[('preprocessor',\n",
       "                 ColumnTransformer(transformers=[('num',\n",
       "                                                  Pipeline(steps=[('imputer',\n",
       "                                                                   SimpleImputer(strategy='median')),\n",
       "                                                                  ('scalar',\n",
       "                                                                   StandardScaler())]),\n",
       "                                                  ['carat', 'depth', 'table',\n",
       "                                                   'x', 'y', 'z', 'volume cone',\n",
       "                                                   'volume semisphere',\n",
       "                                                   'volume',\n",
       "                                                   'predicted price']),\n",
       "                                                 ('cat',\n",
       "                                                  Pipeline(steps=[('imputer',\n",
       "                                                                   SimpleImputer(fill_value='missin',\n",
       "                                                                                 strategy='constant')),\n",
       "                                                                  ('onehot',\n",
       "                                                                   OneHotEncoder(handle_unknown='ignore'))]),\n",
       "                                                  ['cut', 'color',\n",
       "                                                   'clarity'])])),\n",
       "                ('regressor',\n",
       "                 RandomForestRegressor(max_depth=10, n_estimators=150,\n",
       "                                       random_state=5))])"
      ]
     },
     "execution_count": 105,
     "metadata": {},
     "output_type": "execute_result"
    }
   ],
   "source": [
    "model.fit(diamonds_train[features], diamonds_train[target])"
   ]
  },
  {
   "cell_type": "code",
   "execution_count": 106,
   "metadata": {},
   "outputs": [
    {
     "data": {
      "text/plain": [
       "661.9011165123562"
      ]
     },
     "execution_count": 106,
     "metadata": {},
     "output_type": "execute_result"
    }
   ],
   "source": [
    "# Validamos el modelo con diamonds_test\n",
    "\n",
    "y_test_pred = model.predict(diamonds_test[features])\n",
    "y_test_real = diamonds_test[target]\n",
    "\n",
    "mean_squared_error(y_test_real, y_test_pred, squared = False)"
   ]
  },
  {
   "cell_type": "code",
   "execution_count": 107,
   "metadata": {},
   "outputs": [
    {
     "data": {
      "text/plain": [
       "595.726220301312"
      ]
     },
     "execution_count": 107,
     "metadata": {},
     "output_type": "execute_result"
    }
   ],
   "source": [
    "# Validamos el modelo con diamonds_train\n",
    "\n",
    "y_train_pred = model.predict(diamonds_train[features])\n",
    "y_train_real = diamonds_train[target]\n",
    "\n",
    "mean_squared_error(y_train_real, y_train_pred, squared = False)"
   ]
  },
  {
   "cell_type": "markdown",
   "metadata": {},
   "source": [
    "## **Submission**"
   ]
  },
  {
   "cell_type": "code",
   "execution_count": 19,
   "metadata": {},
   "outputs": [],
   "source": [
    "submission_df = pd.DataFrame({'id': predict['id'], 'price': y_pred})"
   ]
  },
  {
   "cell_type": "code",
   "execution_count": 20,
   "metadata": {},
   "outputs": [],
   "source": [
    "submission_df.to_csv('./data/GradientBoosting.csv', index = False)"
   ]
  },
  {
   "cell_type": "markdown",
   "metadata": {},
   "source": [
    "## **Hyperparameter Optimization**"
   ]
  },
  {
   "cell_type": "code",
   "execution_count": 17,
   "metadata": {},
   "outputs": [
    {
     "name": "stdout",
     "output_type": "stream",
     "text": [
      "Fitting 5 folds for each of 32 candidates, totalling 160 fits\n"
     ]
    },
    {
     "name": "stderr",
     "output_type": "stream",
     "text": [
      "[Parallel(n_jobs=-1)]: Using backend LokyBackend with 8 concurrent workers.\n",
      "[Parallel(n_jobs=-1)]: Done   2 tasks      | elapsed:   18.3s\n",
      "[Parallel(n_jobs=-1)]: Done   9 tasks      | elapsed:   44.1s\n",
      "[Parallel(n_jobs=-1)]: Done  16 tasks      | elapsed:  1.0min\n",
      "[Parallel(n_jobs=-1)]: Done  25 tasks      | elapsed:  1.5min\n",
      "[Parallel(n_jobs=-1)]: Done  34 tasks      | elapsed:  1.8min\n",
      "[Parallel(n_jobs=-1)]: Done  45 tasks      | elapsed:  1.9min\n",
      "[Parallel(n_jobs=-1)]: Done  56 tasks      | elapsed:  3.1min\n",
      "[Parallel(n_jobs=-1)]: Done  69 tasks      | elapsed:  4.2min\n",
      "[Parallel(n_jobs=-1)]: Done  82 tasks      | elapsed:  4.6min\n",
      "[Parallel(n_jobs=-1)]: Done  97 tasks      | elapsed:  5.5min\n",
      "[Parallel(n_jobs=-1)]: Done 112 tasks      | elapsed:  7.2min\n",
      "[Parallel(n_jobs=-1)]: Done 129 tasks      | elapsed:  8.5min\n",
      "[Parallel(n_jobs=-1)]: Done 160 out of 160 | elapsed: 10.1min finished\n"
     ]
    },
    {
     "data": {
      "text/plain": [
       "RandomizedSearchCV(cv=5,\n",
       "                   estimator=Pipeline(steps=[('preprocessor',\n",
       "                                              ColumnTransformer(transformers=[('num',\n",
       "                                                                               Pipeline(steps=[('imputer',\n",
       "                                                                                                SimpleImputer(strategy='median')),\n",
       "                                                                                               ('scalar',\n",
       "                                                                                                StandardScaler())]),\n",
       "                                                                               ['carat',\n",
       "                                                                                'depth',\n",
       "                                                                                'table',\n",
       "                                                                                'x',\n",
       "                                                                                'y',\n",
       "                                                                                'z',\n",
       "                                                                                'volume']),\n",
       "                                                                              ('cat',\n",
       "                                                                               Pipeline(steps=[('imputer',\n",
       "                                                                                                SimpleImputer(fill_value='missin',\n",
       "                                                                                                              strategy='constant')),\n",
       "                                                                                               ('onehot',\n",
       "                                                                                                OneHot..._unknown='ignore'))]),\n",
       "                                                                               ['cut',\n",
       "                                                                                'color',\n",
       "                                                                                'clarity'])])),\n",
       "                                             ('regressor',\n",
       "                                              RandomForestRegressor(max_depth=11,\n",
       "                                                                    random_state=0))]),\n",
       "                   n_iter=32, n_jobs=-1,\n",
       "                   param_distributions={'preprocessor__num__imputer__strategy': ['mean',\n",
       "                                                                                 'median'],\n",
       "                                        'regressor__max_depth': [2, 4, 8, 16],\n",
       "                                        'regressor__n_estimators': [16, 32, 64,\n",
       "                                                                    128, 256,\n",
       "                                                                    512]},\n",
       "                   scoring='neg_root_mean_squared_error', verbose=10)"
      ]
     },
     "execution_count": 17,
     "metadata": {},
     "output_type": "execute_result"
    }
   ],
   "source": [
    "param_grid = {\n",
    "    'preprocessor__num__imputer__strategy': ['mean', 'median'],\n",
    "    'regressor__n_estimators': [16, 32, 64, 128, 256, 512],\n",
    "    'regressor__max_depth': [2, 4, 8, 16, 20],\n",
    "}\n",
    "\n",
    "grid_search = RandomizedSearchCV(model, \n",
    "                                 param_grid, \n",
    "                                 cv=5, \n",
    "                                 verbose=10, \n",
    "                                 scoring='neg_root_mean_squared_error', \n",
    "                                 n_jobs=-1,\n",
    "                                 n_iter=32)\n",
    "\n",
    "grid_search.fit(diamonds[features], diamonds[target])"
   ]
  },
  {
   "cell_type": "code",
   "execution_count": 18,
   "metadata": {},
   "outputs": [
    {
     "data": {
      "text/plain": [
       "{'regressor__n_estimators': 512,\n",
       " 'regressor__max_depth': 16,\n",
       " 'preprocessor__num__imputer__strategy': 'mean'}"
      ]
     },
     "execution_count": 18,
     "metadata": {},
     "output_type": "execute_result"
    }
   ],
   "source": [
    "grid_search.best_params_"
   ]
  },
  {
   "cell_type": "code",
   "execution_count": 19,
   "metadata": {},
   "outputs": [
    {
     "data": {
      "text/plain": [
       "-557.7769864705173"
      ]
     },
     "execution_count": 19,
     "metadata": {},
     "output_type": "execute_result"
    }
   ],
   "source": [
    "grid_search.best_score_"
   ]
  },
  {
   "cell_type": "code",
   "execution_count": 22,
   "metadata": {},
   "outputs": [],
   "source": [
    "y_pred = grid_search.predict(predict[features])"
   ]
  },
  {
   "cell_type": "code",
   "execution_count": 23,
   "metadata": {},
   "outputs": [
    {
     "data": {
      "text/plain": [
       "623.4305379967942"
      ]
     },
     "execution_count": 23,
     "metadata": {},
     "output_type": "execute_result"
    }
   ],
   "source": [
    "# Validamos el modelo con diamonds_test\n",
    "\n",
    "y_test_pred = model.predict(diamonds_test[features])\n",
    "y_test_real = diamonds_test[target]\n",
    "\n",
    "mean_squared_error(y_test_real, y_test_pred, squared = False)"
   ]
  },
  {
   "cell_type": "markdown",
   "metadata": {},
   "source": [
    "## **Submission**"
   ]
  },
  {
   "cell_type": "code",
   "execution_count": 24,
   "metadata": {},
   "outputs": [],
   "source": [
    "submission_df = pd.DataFrame({'id': predict['id'], 'price': y_pred})"
   ]
  },
  {
   "cell_type": "code",
   "execution_count": 25,
   "metadata": {},
   "outputs": [],
   "source": [
    "submission_df.to_csv('./data/RandomForest.csv', index = False)"
   ]
  },
  {
   "cell_type": "code",
   "execution_count": null,
   "metadata": {},
   "outputs": [],
   "source": []
  }
 ],
 "metadata": {
  "kernelspec": {
   "display_name": "Python [conda env:ironhack_env]",
   "language": "python",
   "name": "conda-env-ironhack_env-py"
  },
  "language_info": {
   "codemirror_mode": {
    "name": "ipython",
    "version": 3
   },
   "file_extension": ".py",
   "mimetype": "text/x-python",
   "name": "python",
   "nbconvert_exporter": "python",
   "pygments_lexer": "ipython3",
   "version": "3.7.7"
  }
 },
 "nbformat": 4,
 "nbformat_minor": 4
}
